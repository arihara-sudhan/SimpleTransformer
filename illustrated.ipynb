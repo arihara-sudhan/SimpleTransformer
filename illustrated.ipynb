{
 "cells": [
  {
   "cell_type": "markdown",
   "id": "1ad3546f",
   "metadata": {},
   "source": [
    "# TRANSFORMERS BY ARIHARASUDHAN"
   ]
  },
  {
   "cell_type": "code",
   "execution_count": 3,
   "id": "7c072ffc",
   "metadata": {
    "collapsed": true
   },
   "outputs": [
    {
     "name": "stdout",
     "output_type": "stream",
     "text": [
      "Requirement already satisfied: torch in /home/ari-pt7127/anaconda3/lib/python3.9/site-packages (2.0.0)\n",
      "Requirement already satisfied: numpy in /home/ari-pt7127/anaconda3/lib/python3.9/site-packages (1.21.5)\n",
      "Requirement already satisfied: matplotlib in /home/ari-pt7127/anaconda3/lib/python3.9/site-packages (3.5.1)\n",
      "Requirement already satisfied: spacy in /home/ari-pt7127/anaconda3/lib/python3.9/site-packages (3.5.2)\n",
      "Requirement already satisfied: torchtext in /home/ari-pt7127/anaconda3/lib/python3.9/site-packages (0.4.0)\n",
      "Requirement already satisfied: seaborn in /home/ari-pt7127/anaconda3/lib/python3.9/site-packages (0.11.2)\n",
      "Requirement already satisfied: filelock in /home/ari-pt7127/anaconda3/lib/python3.9/site-packages (from torch) (3.3.1)\n",
      "Requirement already satisfied: typing-extensions in /home/ari-pt7127/anaconda3/lib/python3.9/site-packages (from torch) (4.5.0)\n",
      "Requirement already satisfied: sympy in /home/ari-pt7127/anaconda3/lib/python3.9/site-packages (from torch) (1.9)\n",
      "Requirement already satisfied: networkx in /home/ari-pt7127/anaconda3/lib/python3.9/site-packages (from torch) (2.6.3)\n",
      "Requirement already satisfied: jinja2 in /home/ari-pt7127/anaconda3/lib/python3.9/site-packages (from torch) (2.11.3)\n",
      "Requirement already satisfied: fonttools>=4.22.0 in /home/ari-pt7127/anaconda3/lib/python3.9/site-packages (from matplotlib) (4.25.0)\n",
      "Requirement already satisfied: python-dateutil>=2.7 in /home/ari-pt7127/anaconda3/lib/python3.9/site-packages (from matplotlib) (2.8.2)\n",
      "Requirement already satisfied: packaging>=20.0 in /home/ari-pt7127/anaconda3/lib/python3.9/site-packages (from matplotlib) (21.0)\n",
      "Requirement already satisfied: pyparsing>=2.2.1 in /home/ari-pt7127/anaconda3/lib/python3.9/site-packages (from matplotlib) (3.0.4)\n",
      "Requirement already satisfied: cycler>=0.10 in /home/ari-pt7127/anaconda3/lib/python3.9/site-packages (from matplotlib) (0.10.0)\n",
      "Requirement already satisfied: kiwisolver>=1.0.1 in /home/ari-pt7127/anaconda3/lib/python3.9/site-packages (from matplotlib) (1.3.1)\n",
      "Requirement already satisfied: pillow>=6.2.0 in /home/ari-pt7127/anaconda3/lib/python3.9/site-packages (from matplotlib) (8.4.0)\n",
      "Requirement already satisfied: pydantic!=1.8,!=1.8.1,<1.11.0,>=1.7.4 in /home/ari-pt7127/anaconda3/lib/python3.9/site-packages (from spacy) (1.10.5)\n",
      "Requirement already satisfied: smart-open<7.0.0,>=5.2.1 in /home/ari-pt7127/anaconda3/lib/python3.9/site-packages (from spacy) (6.3.0)\n",
      "Requirement already satisfied: typer<0.8.0,>=0.3.0 in /home/ari-pt7127/anaconda3/lib/python3.9/site-packages (from spacy) (0.7.0)\n",
      "Requirement already satisfied: wasabi<1.2.0,>=0.9.1 in /home/ari-pt7127/anaconda3/lib/python3.9/site-packages (from spacy) (1.1.1)\n",
      "Requirement already satisfied: preshed<3.1.0,>=3.0.2 in /home/ari-pt7127/anaconda3/lib/python3.9/site-packages (from spacy) (3.0.8)\n",
      "Requirement already satisfied: murmurhash<1.1.0,>=0.28.0 in /home/ari-pt7127/anaconda3/lib/python3.9/site-packages (from spacy) (1.0.9)\n",
      "Requirement already satisfied: spacy-legacy<3.1.0,>=3.0.11 in /home/ari-pt7127/anaconda3/lib/python3.9/site-packages (from spacy) (3.0.12)\n",
      "Requirement already satisfied: srsly<3.0.0,>=2.4.3 in /home/ari-pt7127/anaconda3/lib/python3.9/site-packages (from spacy) (2.4.6)\n",
      "Requirement already satisfied: pathy>=0.10.0 in /home/ari-pt7127/anaconda3/lib/python3.9/site-packages (from spacy) (0.10.1)\n",
      "Requirement already satisfied: spacy-loggers<2.0.0,>=1.0.0 in /home/ari-pt7127/anaconda3/lib/python3.9/site-packages (from spacy) (1.0.4)\n",
      "Requirement already satisfied: tqdm<5.0.0,>=4.38.0 in /home/ari-pt7127/anaconda3/lib/python3.9/site-packages (from spacy) (4.62.3)\n",
      "Requirement already satisfied: cymem<2.1.0,>=2.0.2 in /home/ari-pt7127/anaconda3/lib/python3.9/site-packages (from spacy) (2.0.7)\n",
      "Requirement already satisfied: thinc<8.2.0,>=8.1.8 in /home/ari-pt7127/anaconda3/lib/python3.9/site-packages (from spacy) (8.1.10)\n",
      "Requirement already satisfied: langcodes<4.0.0,>=3.2.0 in /home/ari-pt7127/anaconda3/lib/python3.9/site-packages (from spacy) (3.3.0)\n",
      "Requirement already satisfied: catalogue<2.1.0,>=2.0.6 in /home/ari-pt7127/anaconda3/lib/python3.9/site-packages (from spacy) (2.0.8)\n",
      "Requirement already satisfied: setuptools in /home/ari-pt7127/anaconda3/lib/python3.9/site-packages (from spacy) (58.0.4)\n",
      "Requirement already satisfied: requests<3.0.0,>=2.13.0 in /home/ari-pt7127/anaconda3/lib/python3.9/site-packages (from spacy) (2.25.1)\n",
      "Requirement already satisfied: six in /home/ari-pt7127/anaconda3/lib/python3.9/site-packages (from torchtext) (1.16.0)\n",
      "Requirement already satisfied: scipy>=1.0 in /home/ari-pt7127/anaconda3/lib/python3.9/site-packages (from seaborn) (1.7.1)\n",
      "Requirement already satisfied: pandas>=0.23 in /home/ari-pt7127/anaconda3/lib/python3.9/site-packages (from seaborn) (1.2.4)\n",
      "Requirement already satisfied: pytz>=2017.3 in /home/ari-pt7127/anaconda3/lib/python3.9/site-packages (from pandas>=0.23->seaborn) (2021.3)\n",
      "Requirement already satisfied: chardet<5,>=3.0.2 in /home/ari-pt7127/anaconda3/lib/python3.9/site-packages (from requests<3.0.0,>=2.13.0->spacy) (4.0.0)\n",
      "Requirement already satisfied: idna<3,>=2.5 in /home/ari-pt7127/anaconda3/lib/python3.9/site-packages (from requests<3.0.0,>=2.13.0->spacy) (2.10)\n",
      "Requirement already satisfied: urllib3<1.27,>=1.21.1 in /home/ari-pt7127/anaconda3/lib/python3.9/site-packages (from requests<3.0.0,>=2.13.0->spacy) (1.26.7)\n",
      "Requirement already satisfied: certifi>=2017.4.17 in /home/ari-pt7127/anaconda3/lib/python3.9/site-packages (from requests<3.0.0,>=2.13.0->spacy) (2021.10.8)\n",
      "Requirement already satisfied: confection<1.0.0,>=0.0.1 in /home/ari-pt7127/anaconda3/lib/python3.9/site-packages (from thinc<8.2.0,>=8.1.8->spacy) (0.0.4)\n",
      "Requirement already satisfied: blis<0.8.0,>=0.7.8 in /home/ari-pt7127/anaconda3/lib/python3.9/site-packages (from thinc<8.2.0,>=8.1.8->spacy) (0.7.9)\n",
      "Requirement already satisfied: click<9.0.0,>=7.1.1 in /home/ari-pt7127/anaconda3/lib/python3.9/site-packages (from typer<0.8.0,>=0.3.0->spacy) (8.0.3)\n",
      "Requirement already satisfied: MarkupSafe>=0.23 in /home/ari-pt7127/anaconda3/lib/python3.9/site-packages (from jinja2->torch) (1.1.1)\n",
      "Requirement already satisfied: mpmath>=0.19 in /home/ari-pt7127/anaconda3/lib/python3.9/site-packages (from sympy->torch) (1.2.1)\n"
     ]
    }
   ],
   "source": [
    "!pip install torch numpy matplotlib spacy torchtext seaborn "
   ]
  },
  {
   "cell_type": "markdown",
   "id": "62d95c8a",
   "metadata": {},
   "source": [
    "# ![HELLO](transimg0.jpg)"
   ]
  },
  {
   "cell_type": "markdown",
   "id": "d7ecf5ad",
   "metadata": {},
   "source": [
    "# IMPORT NECESSARY PACKAGES"
   ]
  },
  {
   "cell_type": "markdown",
   "id": "9136048e",
   "metadata": {},
   "source": [
    "This imports the NumPy library, which provides support for numerical operations and arrays in Python."
   ]
  },
  {
   "cell_type": "code",
   "execution_count": 1,
   "id": "0bf64107",
   "metadata": {},
   "outputs": [],
   "source": [
    "import numpy as np"
   ]
  },
  {
   "cell_type": "markdown",
   "id": "3a781f85",
   "metadata": {},
   "source": [
    "These lines import the PyTorch library, including modules for defining and training neural networks (torch.nn), as well as various functions for applying activation functions and loss functions (torch.nn.functional).\n"
   ]
  },
  {
   "cell_type": "code",
   "execution_count": 2,
   "id": "ae6d0ddd",
   "metadata": {},
   "outputs": [],
   "source": [
    "import torch\n",
    "import torch.nn as nn\n",
    "import torch.nn.functional as F"
   ]
  },
  {
   "cell_type": "markdown",
   "id": "323956a4",
   "metadata": {},
   "source": [
    "These lines import some additional Python standard libraries."
   ]
  },
  {
   "cell_type": "code",
   "execution_count": 3,
   "id": "1cd62862",
   "metadata": {},
   "outputs": [],
   "source": [
    "import math, copy, time"
   ]
  },
  {
   "cell_type": "markdown",
   "id": "9dc96518",
   "metadata": {},
   "source": [
    "This line imports the `Variable` class from the `torch.autograd` module. However, in recent versions of PyTorch (1.0 and later), the use of `Variable` is deprecated as tensors are now directly used for automatic differentiation. The use of `Variable` from `torch.autograd` was a common practice in earlier versions of PyTorch (before version 1.0) for enabling automatic differentiation. It allowed you to track computations involving tensors and automatically compute gradients with respect to those tensors. In earlier versions, `Variable` was used to wrap tensors and record the operations performed on them. By doing so, PyTorch could build a computational graph to track the operations and compute gradients using backpropagation. However, starting from PyTorch 1.0, tensors themselves have built-in support for automatic differentiation, and the use of `Variable` is no longer necessary."
   ]
  },
  {
   "cell_type": "code",
   "execution_count": 4,
   "id": "33df2cf3",
   "metadata": {},
   "outputs": [],
   "source": [
    "from torch.autograd import Variable"
   ]
  },
  {
   "cell_type": "markdown",
   "id": "ff3a43bf",
   "metadata": {},
   "source": [
    "These lines import the Matplotlib library, which provides various functions for creating plots and visualizations in Python. The `seaborn` library is used to set the plot context, and `%matplotlib inline` is a Jupyter Notebook magic command that allows plots to be displayed directly in the notebook. Overall, these imports set up the necessary libraries and modules for working with PyTorch and creating visualizations using Matplotlib."
   ]
  },
  {
   "cell_type": "code",
   "execution_count": 5,
   "id": "05c619bd",
   "metadata": {},
   "outputs": [],
   "source": [
    "import matplotlib.pyplot as plt\n",
    "import seaborn\n",
    "seaborn.set_context(context=\"talk\")\n",
    "%matplotlib inline"
   ]
  },
  {
   "cell_type": "markdown",
   "id": "f3cf9887",
   "metadata": {},
   "source": [
    "# ![HELLO](transimg1.png)"
   ]
  },
  {
   "cell_type": "markdown",
   "id": "41c8d4d8",
   "metadata": {},
   "source": [
    "# THE ENCODER DECODER"
   ]
  },
  {
   "cell_type": "code",
   "execution_count": 16,
   "id": "f3974dc3",
   "metadata": {},
   "outputs": [],
   "source": [
    "class EncoderDecoder(nn.Module):\n",
    "    def __init__(self, encoder, decoder, src_embed, tgt_embed, generator):\n",
    "        super(EncoderDecoder, self).__init__()\n",
    "        self.encoder = encoder\n",
    "        self.decoder = decoder\n",
    "        self.src_embed = src_embed\n",
    "        self.tgt_embed = tgt_embed\n",
    "        self.generator = generator\n",
    "        \n",
    "    def forward(self, src, tgt, src_mask, tgt_mask):\n",
    "        return self.decode(self.encode(src, src_mask), src_mask,\n",
    "                            tgt, tgt_mask)\n",
    "    \n",
    "    def encode(self, src, src_mask):\n",
    "        return self.encoder(self.src_embed(src), src_mask)\n",
    "    \n",
    "    def decode(self, memory, src_mask, tgt, tgt_mask):\n",
    "        return self.decoder(self.tgt_embed(tgt), memory, src_mask, tgt_mask)"
   ]
  },
  {
   "cell_type": "markdown",
   "id": "1fd59ba4",
   "metadata": {},
   "source": [
    "#### Let's walk through how the `EncoderDecoder` class could be used for translating the English sentence \"I am a boy\" into French.\n",
    "\n",
    "To use the `EncoderDecoder` class for translation, you would need to set up the specific components required, such as the encoder, decoder, embeddings, and generator modules. These components would be trained on a parallel corpus of English-French sentences.\n",
    "\n",
    "Here's how the translation process would work:\n",
    "\n",
    "⭐ Encoding:\n",
    "The source sentence \"I am a boy\" would be tokenized into individual words, resulting in the sequence [\"I\", \"am\", \"a\", \"boy\"]. The `encode` method would take this source sequence and a source mask as input. The source embedding (`self.src_embed`) would convert each word into a vector representation. The embedded source sequence is then passed to the encoder module (`self.encoder`), which encodes the sequence, producing a higher-level representation called \"memory\".\n",
    "\n",
    "⭐ Decoding:\n",
    "The `decode` method takes the \"memory\" from the encoding step, along with a source mask, a target sequence (which could be a special start token), and a target mask as input. The target sequence would initially contain only the start token. The target embedding (`self.tgt_embed`) converts the target sequence into a vector representation. The embedded target sequence, \"memory\", source mask, and target mask are then passed to the decoder module (`self.decoder`). The decoder processes this information and generates an output representation.\n",
    "\n",
    "⭐ Forward Pass:\n",
    "The `forward` method is the entry point of the `EncoderDecoder` class. It takes the source sequence, target sequence, source mask, and target mask as input. It calls the `encode` method to obtain the \"memory\" representation of the source sequence. Then, it calls the `decode` method, passing the \"memory\", source mask, target sequence, and target mask. The `decode` method returns the output representation.\n",
    "\n",
    "⭐ Translation:\n",
    "Once the forward pass is complete, the output representation can be used to generate the translated sentence. The output representation would be processed by the generator module (`self.generator`), which generates the translated words or probabilities for each word in the target language (French). These probabilities can be used to select the most likely translation for each word.\n"
   ]
  },
  {
   "cell_type": "markdown",
   "id": "9da58395",
   "metadata": {},
   "source": [
    "# THE GENERATOR"
   ]
  },
  {
   "cell_type": "code",
   "execution_count": 17,
   "id": "b6115095",
   "metadata": {},
   "outputs": [],
   "source": [
    "class Generator(nn.Module):\n",
    "    def __init__(self, d_model, vocab):\n",
    "        super(Generator, self).__init__()\n",
    "        self.proj = nn.Linear(d_model, vocab)\n",
    "\n",
    "    def forward(self, x):\n",
    "        return F.log_softmax(self.proj(x), dim=-1)"
   ]
  },
  {
   "cell_type": "markdown",
   "id": "be13be68",
   "metadata": {},
   "source": [
    "Now, let's consider the `Generator` class and its methods:\n",
    "\n",
    "⭐ Initialization: When creating an instance of the `Generator` class, you need to specify two parameters: `d_model` and `vocab`. `d_model` represents the dimensionality of the input tensor or hidden state. In this example, it could be the size of the hidden state vector. `vocab` represents the size of the vocabulary, which is the number of unique words in the target language. The `__init__` method initializes a linear layer (`self.proj`) with an input size of `d_model` and an output size of `vocab`. The linear layer will transform the input tensor to match the vocabulary size.\n",
    "\n",
    "\n",
    "⭐ Forward Pass: The `forward` method is responsible for the forward pass of the `Generator` model. It takes an input tensor `x`, which represents the output representation from the previous step in the model. In this case, `x` would be the hidden state obtained from the encoder or decoder of the sequence-to-sequence model.\n",
    "\n",
    "\n",
    "⭐ Linear Transformation: The input tensor `x` is passed through the linear layer (`self.proj`) defined in the `__init__` method. The linear layer applies a linear transformation to the input tensor, projecting it from the `d_model` dimensionality to the `vocab` dimensionality. In other words, it maps the input tensor to a vector representation that aligns with the size of the vocabulary.\n",
    "\n",
    "\n",
    "⭐ Log Softmax Activation: The output of the linear layer is passed through a log softmax activation function (`F.log_softmax`). The log softmax function normalizes the output values and transforms them into probabilities. The log transformation is used to mitigate numerical stability issues when dealing with small probabilities.\n",
    "In the context of translating the sentence \"I am a boy,\" the `Generator` class would take the encoded representation of the input sentence as the input tensor `x`. It would then perform a linear transformation and apply a log softmax activation to obtain the output probabilities over the vocabulary of the target language. These probabilities represent the likelihood of each word in the target language given the input sentence.\n"
   ]
  },
  {
   "cell_type": "markdown",
   "id": "cd236824",
   "metadata": {},
   "source": [
    "# TRANSFORMER ARCHITECTURE"
   ]
  },
  {
   "cell_type": "markdown",
   "id": "77732c14",
   "metadata": {},
   "source": [
    "# ![TRANSFORMER](https://machinelearningmastery.com/wp-content/uploads/2021/08/attention_research_1.png)"
   ]
  },
  {
   "cell_type": "markdown",
   "id": "8746a742",
   "metadata": {},
   "source": [
    "# CLONES FOR STACKED LAYERS"
   ]
  },
  {
   "cell_type": "code",
   "execution_count": 35,
   "id": "331390e0",
   "metadata": {},
   "outputs": [],
   "source": [
    "def clones(module, N):\n",
    "    #Produce N identical layers\n",
    "    return nn.ModuleList([copy.deepcopy(module) for _ in range(N)])"
   ]
  },
  {
   "cell_type": "markdown",
   "id": "f6880941",
   "metadata": {},
   "source": [
    "# ENCODER"
   ]
  },
  {
   "cell_type": "code",
   "execution_count": 29,
   "id": "fe513e57",
   "metadata": {},
   "outputs": [],
   "source": [
    "class Encoder(nn.Module):\n",
    "    # Core encoder is a stack of N layers\n",
    "    def __init__(self, layer, N):\n",
    "        super(Encoder, self).__init__()\n",
    "        self.layers = clones(layer, N)\n",
    "        self.norm = LayerNorm(layer.size)\n",
    "        \n",
    "    def forward(self, x, mask):\n",
    "        # Pass the input (and mask) through each layer in turn\n",
    "        for layer in self.layers:\n",
    "            x = layer(x, mask)\n",
    "        return self.norm(x)"
   ]
  },
  {
   "cell_type": "markdown",
   "id": "bf22a176",
   "metadata": {},
   "source": [
    "`Encoder` class represents the core encoder in a sequence-to-sequence model. It consists of a stack of N layers, which are created by cloning a single layer. The input sequence is passed through each layer in the stack sequentially, and the output of the last layer is normalized using layer normalization before being returned. This class encapsulates the encoding process, allowing the input sequence to be encoded in a multi-layered manner with layer normalization applied."
   ]
  },
  {
   "cell_type": "markdown",
   "id": "eb931f45",
   "metadata": {},
   "source": [
    "# LAYER NORM"
   ]
  },
  {
   "cell_type": "code",
   "execution_count": 30,
   "id": "d7dfeb10",
   "metadata": {},
   "outputs": [],
   "source": [
    "class LayerNorm(nn.Module):\n",
    "    def __init__(self, features, eps=1e-6):\n",
    "        super(LayerNorm, self).__init__()\n",
    "        self.a_2 = nn.Parameter(torch.ones(features))\n",
    "        self.b_2 = nn.Parameter(torch.zeros(features))\n",
    "        self.eps = eps\n",
    "\n",
    "    def forward(self, x):\n",
    "        mean = x.mean(-1, keepdim=True)\n",
    "        std = x.std(-1, keepdim=True)\n",
    "        return self.a_2 * (x - mean) / (std + self.eps) + self.b_2"
   ]
  },
  {
   "cell_type": "markdown",
   "id": "8d3a8d0d",
   "metadata": {},
   "source": [
    "⭐ `__init__(self, features, eps=1e-6)` : This is the initialization method of the `LayerNorm` class. It takes two arguments: `features`, which represents the number of features or dimensions of the input tensor, and `eps`, which is a small value added to the denominator to improve numerical stability. Within this method, two learnable parameters, `self.a_2` and `self.b_2`, are created using `nn.Parameter`. These parameters are initialized as tensors of size `features` with ones (`torch.ones(features)`) and zeros (`torch.zeros(features)`) respectively. The `eps` value is also stored as an attribute.\n",
    "\n",
    "⭐ `forward(self, x)`: This method defines the forward pass of the `LayerNorm` module. It takes an input tensor `x` as input. The input tensor `x` is expected to have shape `(batch_size, sequence_length, features)` or similar. The layer normalization is applied along the last dimension (`-1`), which represents the features dimension. The mean and standard deviation of `x` are calculated along this dimension using `x.mean(-1, keepdim=True)` and `x.std(-1, keepdim=True)` respectively. The resulting mean and standard deviation are then used to normalize `x` by subtracting the mean, dividing by the standard deviation plus `self.eps`, and scaling by `self.a_2`. Finally, `self.b_2` is added to the normalized tensor before returning the result.\n",
    "\n"
   ]
  },
  {
   "cell_type": "markdown",
   "id": "905fd38b",
   "metadata": {},
   "source": [
    "The parameters self.a_2 and self.b_2 in the LayerNorm class are learnable parameters that are used to scale and shift the normalized values during layer normalization."
   ]
  },
  {
   "cell_type": "markdown",
   "id": "793c6bf9",
   "metadata": {},
   "source": [
    "# SUB-LAYER CONNECTION"
   ]
  },
  {
   "cell_type": "code",
   "execution_count": 36,
   "id": "c538519d",
   "metadata": {},
   "outputs": [],
   "source": [
    "class SublayerConnection(nn.Module):\n",
    "    def __init__(self, size, dropout):\n",
    "        super(SublayerConnection, self).__init__()\n",
    "        self.norm = LayerNorm(size)\n",
    "        self.dropout = nn.Dropout(dropout)\n",
    "\n",
    "    def forward(self, x, sublayer):\n",
    "        return x + self.dropout(sublayer(self.norm(x)))"
   ]
  },
  {
   "cell_type": "markdown",
   "id": "737f51f2",
   "metadata": {},
   "source": [
    "The `SublayerConnection` class represents a residual connection followed by layer normalization and dropout. It allows the input tensor `x` to be connected to a sublayer while applying normalization and dropout. The layer normalization module (`self.norm`) ensures that the input tensor has a consistent mean and variance across the features dimension. The dropout module (`self.dropout`) randomly sets elements of the output tensor to zero, helping to prevent overfitting. The residual connection adds the original input tensor `x` to the output of the sublayer, which can help propagate information through the network and alleviate the vanishing gradient problem. This class is commonly used in transformer-based architectures to introduce residual connections and normalize the intermediate representations."
   ]
  },
  {
   "cell_type": "markdown",
   "id": "8b7c7d48",
   "metadata": {},
   "source": [
    "# ENCODER LAYER"
   ]
  },
  {
   "cell_type": "code",
   "execution_count": 40,
   "id": "0a8c47e4",
   "metadata": {},
   "outputs": [],
   "source": [
    "class EncoderLayer(nn.Module):\n",
    "    def __init__(self, size, self_attn, feed_forward, dropout):\n",
    "        super(EncoderLayer, self).__init__()\n",
    "        self.self_attn = self_attn\n",
    "        self.feed_forward = feed_forward\n",
    "        self.sublayer = clones(SublayerConnection(size, dropout), 2)\n",
    "        self.size = size\n",
    "\n",
    "    def forward(self, x, mask):\n",
    "        x = self.sublayer[0](x, lambda x: self.self_attn(x, x, x, mask))\n",
    "        return self.sublayer[1](x, self.feed_forward)"
   ]
  },
  {
   "cell_type": "markdown",
   "id": "3ccda0da",
   "metadata": {},
   "source": [
    "The `EncoderLayer` class represents a single layer in the encoder of a transformer model. It consists of a self-attention mechanism and a feed-forward component. The `SublayerConnection` instances within the `EncoderLayer` handle the residual connections, layer normalization, and dropout. During the forward pass, the input tensor is passed through the self-attention mechanism and then the feed-forward component, allowing the model to learn complex patterns and dependencies in the input sequence."
   ]
  },
  {
   "cell_type": "markdown",
   "id": "9d72f9d1",
   "metadata": {},
   "source": [
    "# DECODER"
   ]
  },
  {
   "cell_type": "code",
   "execution_count": 44,
   "id": "322b44d5",
   "metadata": {},
   "outputs": [],
   "source": [
    "class Decoder(nn.Module):\n",
    "    def __init__(self, layer, N):\n",
    "        super(Decoder, self).__init__()\n",
    "        self.layers = clones(layer, N)\n",
    "        self.norm = LayerNorm(layer.size)\n",
    "        \n",
    "    def forward(self, x, memory, src_mask, tgt_mask):\n",
    "        for layer in self.layers:\n",
    "            x = layer(x, memory, src_mask, tgt_mask)\n",
    "        return self.norm(x)"
   ]
  },
  {
   "cell_type": "markdown",
   "id": "f157948a",
   "metadata": {},
   "source": [
    "The `Decoder` class represents the decoder part of a transformer model. It consists of a stack of N layers, which are created by cloning a single layer. The input sequence is passed through each layer in the stack sequentially, and the output of the last layer is normalized using layer normalization before being returned. This class encapsulates the decoding process, allowing the input sequence to be decoded in a multi-layered manner with layer normalization applied."
   ]
  },
  {
   "cell_type": "markdown",
   "id": "e51df0eb",
   "metadata": {},
   "source": [
    "# DECODER LAYER"
   ]
  },
  {
   "cell_type": "code",
   "execution_count": 51,
   "id": "3321ac21",
   "metadata": {},
   "outputs": [],
   "source": [
    "class DecoderLayer(nn.Module):\n",
    "    def __init__(self, size, self_attn, src_attn, feed_forward, dropout):\n",
    "        super(DecoderLayer, self).__init__()\n",
    "        self.size = size\n",
    "        self.self_attn = self_attn\n",
    "        self.src_attn = src_attn\n",
    "        self.feed_forward = feed_forward\n",
    "        self.sublayer = clones(SublayerConnection(size, dropout), 3)\n",
    " \n",
    "    def forward(self, x, memory, src_mask, tgt_mask):\n",
    "        m = memory\n",
    "        x = self.sublayer[0](x, lambda x: self.self_attn(x, x, x, tgt_mask))\n",
    "        x = self.sublayer[1](x, lambda x: self.src_attn(x, m, m, src_mask))\n",
    "        return self.sublayer[2](x, self.feed_forward)"
   ]
  },
  {
   "cell_type": "markdown",
   "id": "e6182089",
   "metadata": {},
   "source": [
    "The `DecoderLayer` class represents a single layer in the decoder of a transformer model. It consists of self-attention, source attention, feed-forward neural network components, and sublayer connections. During the forward pass, the input tensor is passed through self-attention, source attention, and feed-forward sublayers in that order, with the help of the `SublayerConnection` instances. The output of the last sublayer is returned as the output of the decoder layer. This class encapsulates the operations performed within a decoder layer, allowing for the iterative application of multiple layers in the decoder stack."
   ]
  },
  {
   "cell_type": "markdown",
   "id": "a3cc3c94",
   "metadata": {},
   "source": [
    "# SUBSEQUENT MASK"
   ]
  },
  {
   "cell_type": "code",
   "execution_count": 54,
   "id": "ff27e323",
   "metadata": {},
   "outputs": [],
   "source": [
    "def subsequent_mask(size):\n",
    "    attn_shape = (1, size, size)\n",
    "    subsequent_mask = np.triu(np.ones(attn_shape), k=1).astype('uint8')\n",
    "    return torch.from_numpy(subsequent_mask) == 0"
   ]
  },
  {
   "cell_type": "markdown",
   "id": "ed296572",
   "metadata": {},
   "source": [
    "The `subsequent_mask` function generates a mask to prevent positions in the sequence from attending to subsequent positions. It creates an upper triangular matrix and converts it into a binary mask tensor using PyTorch. This mask is useful in the self-attention mechanism to ensure that a position does not attend to positions that come after it in the sequence."
   ]
  },
  {
   "cell_type": "code",
   "execution_count": 64,
   "id": "d1b74ce4",
   "metadata": {
    "scrolled": false
   },
   "outputs": [
    {
     "data": {
      "text/plain": [
       "<matplotlib.image.AxesImage at 0x7f0d5c736fd0>"
      ]
     },
     "execution_count": 64,
     "metadata": {},
     "output_type": "execute_result"
    },
    {
     "data": {
      "image/png": "[encoded data removed]",
      "text/plain": [
       "<Figure size 360x360 with 1 Axes>"
      ]
     },
     "metadata": {
      "needs_background": "light"
     },
     "output_type": "display_data"
    }
   ],
   "source": [
    "plt.figure(figsize=(5,5))\n",
    "plt.imshow(subsequent_mask(10)[0])"
   ]
  },
  {
   "cell_type": "markdown",
   "id": "c94c35de",
   "metadata": {},
   "source": [
    "The yellow pixels represent unmasked positions, while the violet pixels represent masked positions. "
   ]
  },
  {
   "cell_type": "markdown",
   "id": "84ea904d",
   "metadata": {},
   "source": [
    "# ATTENTION"
   ]
  },
  {
   "cell_type": "markdown",
   "id": "bc44aff7",
   "metadata": {},
   "source": [
    "# ![](https://media.licdn.com/dms/image/sync/D5627AQH2lpiDbp45BA/articleshare-shrink_800/0/1684130793287?e=1684915200&v=beta&t=1U_5umrEcpITszj5N_IA5Cyx5VUdQZW_bBGOsCQMtdM)"
   ]
  },
  {
   "cell_type": "markdown",
   "id": "e30dda83",
   "metadata": {},
   "source": [
    "An attention function can be described as mapping a query and a set of key-value pairs to an output, where the query, keys, values, and output are all vectors. The output is computed as a weighted sum of the values, where the weight assigned to each value is computed by a compatibility function of the query with the corresponding key.\n",
    "\n",
    "We call our particular attention “Scaled Dot-Product Attention”. The input consists of queries and keys of dimension dk\n",
    ", and values of dimension dv. We compute the dot products of the query with all keys, divide each by √dk, and apply a softmax function to obtain the weights on the values."
   ]
  },
  {
   "cell_type": "markdown",
   "id": "bd9eea8e",
   "metadata": {},
   "source": [
    "# ![](https://jamesmccaffrey.files.wordpress.com/2020/09/sdpa_picture_and_equation.jpg?w=584&h=246)"
   ]
  },
  {
   "cell_type": "code",
   "execution_count": 72,
   "id": "ada1b22e",
   "metadata": {},
   "outputs": [],
   "source": [
    "def attention(query, key, value, mask=None, dropout=None):\n",
    "    d_k = query.size(-1)\n",
    "    scores = torch.matmul(query, key.transpose(-2, -1)) \\\n",
    "             / math.sqrt(d_k)\n",
    "    if mask is not None:\n",
    "        scores = scores.masked_fill(mask == 0, -1e9)\n",
    "    p_attn = F.softmax(scores, dim = -1)\n",
    "    if dropout is not None:\n",
    "        p_attn = dropout(p_attn)\n",
    "    return torch.matmul(p_attn, value), p_attn"
   ]
  },
  {
   "cell_type": "markdown",
   "id": "a6acae60",
   "metadata": {},
   "source": [
    "# MULTI-HEAD ATTENTION"
   ]
  },
  {
   "cell_type": "markdown",
   "id": "802274f9",
   "metadata": {},
   "source": [
    "# ![](https://qph.cf2.quoracdn.net/main-qimg-d83b04a913299ccb0411f4b3be2b73d1-lq)"
   ]
  },
  {
   "cell_type": "code",
   "execution_count": 75,
   "id": "06f87983",
   "metadata": {},
   "outputs": [],
   "source": [
    "class MultiHeadedAttention(nn.Module):\n",
    "    def __init__(self, h, d_model, dropout=0.1):\n",
    "        super(MultiHeadedAttention, self).__init__()\n",
    "        assert d_model % h == 0\n",
    "        self.d_k = d_model // h\n",
    "        self.h = h\n",
    "        self.linears = clones(nn.Linear(d_model, d_model), 4)\n",
    "        self.attn = None\n",
    "        self.dropout = nn.Dropout(p=dropout)\n",
    "        \n",
    "    def forward(self, query, key, value, mask=None):\n",
    "        if mask is not None:\n",
    "            mask = mask.unsqueeze(1)\n",
    "        nbatches = query.size(0)\n",
    "        query, key, value = \\\n",
    "            [l(x).view(nbatches, -1, self.h, self.d_k).transpose(1, 2)\n",
    "             for l, x in zip(self.linears, (query, key, value))]        \n",
    "        x, self.attn = attention(query, key, value, mask=mask, \n",
    "                                 dropout=self.dropout)        \n",
    "        x = x.transpose(1, 2).contiguous() \\\n",
    "             .view(nbatches, -1, self.h * self.d_k)\n",
    "        return self.linears[-1](x)"
   ]
  },
  {
   "cell_type": "markdown",
   "id": "e1644b89",
   "metadata": {},
   "source": [
    "The class here is `MultiHeadedAttention`, which implements the multi-headed attention mechanism in a transformer model. The multi-headed attention allows the model to focus on different parts of the input sequence simultaneously.\n",
    "\n",
    "Here's an explanation of the class and its methods:\n",
    "\n",
    "- `__init__(self, h, d_model, dropout=0.1)`: This is the initialization method of the `MultiHeadedAttention` class. It takes three arguments:\n",
    "  - `h`: The number of attention heads.\n",
    "  - `d_model`: The dimensionality of the input and output vectors.\n",
    "  - `dropout`: The dropout probability.\n",
    "\n",
    "Within this method:\n",
    "- `assert d_model % h == 0` ensures that the input dimension is divisible by the number of attention heads. This is a requirement for evenly splitting the input into multiple heads.\n",
    "- `self.d_k = d_model // h` calculates the dimensionality of each head by dividing `d_model` by the number of attention heads.\n",
    "- `self.h = h` stores the number of attention heads.\n",
    "- `self.linears` creates four linear transformation layers using the `clones` function. These layers will be used for linear projections in the attention mechanism.\n",
    "- `self.attn` stores the attention weights.\n",
    "- `self.dropout` is a dropout layer used for regularization.\n",
    "\n",
    "- `forward(self, query, key, value, mask=None)`: This method implements the forward pass of the `MultiHeadedAttention` module. It takes four arguments:\n",
    "  - `query`: The query tensor.\n",
    "  - `key`: The key tensor.\n",
    "  - `value`: The value tensor.\n",
    "  - `mask`: An optional mask tensor to apply to the attention scores.\n",
    "\n",
    "The forward pass follows the steps shown in Figure 2 of the original transformer paper. Here's a breakdown of the steps:\n",
    "- If a `mask` is provided, it is unsqueezed to have an additional dimension representing the head.\n",
    "- `nbatches = query.size(0)` calculates the number of batches based on the size of the query tensor.\n",
    "- `query, key, value` are linearly projected using the corresponding linear transformation layers. The input tensors are first passed through the linear layers, and then reshaped and transposed to split the dimensions into the number of heads (`h`) and the projected dimension (`d_k`).\n",
    "- `x, self.attn = attention(query, key, value, mask=mask, dropout=self.dropout)` applies the attention mechanism to the projected queries, keys, and values. The `attention` function performs the attention operation and returns the output and attention weights.\n",
    "- The output `x` is transposed, reshaped, and concatenated to obtain the final output tensor.\n",
    "- The final output tensor is passed through the last linear transformation layer.\n",
    "\n",
    "In summary, the `MultiHeadedAttention` class implements the multi-headed attention mechanism in a transformer model. During the forward pass, the input tensors are linearly projected into multiple heads, attention is applied to the projected tensors, and the outputs are concatenated and transformed again using a linear layer. This class enables the model to attend to different parts of the input sequence simultaneously and capture different types of information."
   ]
  },
  {
   "cell_type": "markdown",
   "id": "ccf17f41",
   "metadata": {},
   "source": [
    "# POSITION-WISE FEED FORWARD NETWORK"
   ]
  },
  {
   "cell_type": "markdown",
   "id": "9aab1b07",
   "metadata": {},
   "source": [
    "In addition to attention sub-layers, each of the layers in our encoder and decoder contains a fully connected feed-forward network, which is applied to each position separately and identically. This consists of two linear transformations with a ReLU activation in between."
   ]
  },
  {
   "cell_type": "code",
   "execution_count": 79,
   "id": "1407e9b5",
   "metadata": {},
   "outputs": [],
   "source": [
    "class PositionwiseFeedForward(nn.Module):\n",
    "    def __init__(self, d_model, d_ff, dropout=0.1):\n",
    "        super(PositionwiseFeedForward, self).__init__()\n",
    "        self.w_1 = nn.Linear(d_model, d_ff)\n",
    "        self.w_2 = nn.Linear(d_ff, d_model)\n",
    "        self.dropout = nn.Dropout(dropout)\n",
    "\n",
    "    def forward(self, x):\n",
    "        return self.w_2(self.dropout(F.relu(self.w_1(x))))"
   ]
  },
  {
   "cell_type": "markdown",
   "id": "671df928",
   "metadata": {},
   "source": [
    "# EMBEDDINGS AND SOFTMAX"
   ]
  },
  {
   "cell_type": "markdown",
   "id": "3c304d59",
   "metadata": {},
   "source": [
    "Similarly to other sequence transduction models, we use learned embeddings to convert the input tokens and output tokens to vectors of dimension dmodel. We also use the usual learned linear transformation and softmax function to convert the decoder output to predicted next-token probabilities. "
   ]
  },
  {
   "cell_type": "code",
   "execution_count": 84,
   "id": "3340feee",
   "metadata": {},
   "outputs": [],
   "source": [
    "class Embeddings(nn.Module):\n",
    "    def __init__(self, d_model, vocab):\n",
    "        super(Embeddings, self).__init__()\n",
    "        self.lut = nn.Embedding(vocab, d_model)\n",
    "        self.d_model = d_model\n",
    "    def forward(self, x):\n",
    "        return self.lut(x) * math.sqrt(self.d_model)"
   ]
  },
  {
   "cell_type": "markdown",
   "id": "dc291407",
   "metadata": {},
   "source": [
    "# POSITIONAL ENCODING"
   ]
  },
  {
   "cell_type": "markdown",
   "id": "134fddd7",
   "metadata": {},
   "source": [
    "The PositionalEncoding module computes the positional encoding values based on the position and dimensionality of the input sequence. During the forward pass, it adds the positional encoding to the input tensor and applies dropout to the output. The positional encoding provides positional information to the transformer model, allowing it to differentiate between elements in the input sequence based on their position."
   ]
  },
  {
   "cell_type": "code",
   "execution_count": 87,
   "id": "6b400913",
   "metadata": {},
   "outputs": [],
   "source": [
    "class PositionalEncoding(nn.Module):\n",
    "    def __init__(self, d_model, dropout, max_len=5000):\n",
    "        super(PositionalEncoding, self).__init__()\n",
    "        self.dropout = nn.Dropout(p=dropout)\n",
    "        pe = torch.zeros(max_len, d_model)\n",
    "        position = torch.arange(0, max_len).unsqueeze(1)\n",
    "        div_term = torch.exp(torch.arange(0, d_model, 2) *\n",
    "                             -(math.log(10000.0) / d_model))\n",
    "        pe[:, 0::2] = torch.sin(position * div_term)\n",
    "        pe[:, 1::2] = torch.cos(position * div_term)\n",
    "        pe = pe.unsqueeze(0)\n",
    "        self.register_buffer('pe', pe)\n",
    "        \n",
    "    def forward(self, x):\n",
    "        x = x + Variable(self.pe[:, :x.size(1)], \n",
    "                         requires_grad=False)\n",
    "        return self.dropout(x)"
   ]
  },
  {
   "cell_type": "code",
   "execution_count": 89,
   "id": "7864fa83",
   "metadata": {
    "scrolled": true
   },
   "outputs": [
    {
     "data": {
      "text/plain": [
       "<matplotlib.legend.Legend at 0x7f0d5c6dcdc0>"
      ]
     },
     "execution_count": 89,
     "metadata": {},
     "output_type": "execute_result"
    },
    {
     "data": {
      "image/png": "[encoded data removed]",
      "text/plain": [
       "<Figure size 1080x360 with 1 Axes>"
      ]
     },
     "metadata": {
      "needs_background": "light"
     },
     "output_type": "display_data"
    }
   ],
   "source": [
    "plt.figure(figsize=(15, 5))\n",
    "pe = PositionalEncoding(20, 0)\n",
    "y = pe.forward(Variable(torch.zeros(1, 100, 20)))\n",
    "plt.plot(np.arange(100), y[0, :, 4:8].data.numpy())\n",
    "plt.legend([\"dim %d\"%p for p in [4,5,6,7]])\n"
   ]
  },
  {
   "cell_type": "markdown",
   "id": "c40fac44",
   "metadata": {},
   "source": [
    "# THE MODEL"
   ]
  },
  {
   "cell_type": "code",
   "execution_count": 95,
   "id": "4b05f23a",
   "metadata": {},
   "outputs": [
    {
     "name": "stderr",
     "output_type": "stream",
     "text": [
      "/tmp/ipykernel_18445/2894909393.py:17: UserWarning: nn.init.xavier_uniform is now deprecated in favor of nn.init.xavier_uniform_.\n",
      "  nn.init.xavier_uniform(p)\n"
     ]
    }
   ],
   "source": [
    "def make_model(src_vocab, tgt_vocab, N=6, \n",
    "               d_model=512, d_ff=2048, h=8, dropout=0.1):\n",
    "    \"Helper: Construct a model from hyperparameters.\"\n",
    "    c = copy.deepcopy\n",
    "    attn = MultiHeadedAttention(h, d_model)\n",
    "    ff = PositionwiseFeedForward(d_model, d_ff, dropout)\n",
    "    position = PositionalEncoding(d_model, dropout)\n",
    "    model = EncoderDecoder(\n",
    "        Encoder(EncoderLayer(d_model, c(attn), c(ff), dropout), N),\n",
    "        Decoder(DecoderLayer(d_model, c(attn), c(attn), \n",
    "                             c(ff), dropout), N),\n",
    "        nn.Sequential(Embeddings(d_model, src_vocab), c(position)),\n",
    "        nn.Sequential(Embeddings(d_model, tgt_vocab), c(position)),\n",
    "        Generator(d_model, tgt_vocab))\n",
    "    for p in model.parameters():\n",
    "        if p.dim() > 1:\n",
    "            nn.init.xavier_uniform(p)\n",
    "    return model\n",
    "\n",
    "tmp_model = make_model(10, 10, 2)\n",
    "None"
   ]
  },
  {
   "cell_type": "markdown",
   "id": "20ae418e",
   "metadata": {},
   "source": [
    "# BATCHES AND MASKS"
   ]
  },
  {
   "cell_type": "code",
   "execution_count": 96,
   "id": "52966c4e",
   "metadata": {},
   "outputs": [],
   "source": [
    "class Batch:\n",
    "    \"Object for holding a batch of data with mask during training.\"\n",
    "    def __init__(self, src, trg=None, pad=0):\n",
    "        self.src = src\n",
    "        self.src_mask = (src != pad).unsqueeze(-2)\n",
    "        if trg is not None:\n",
    "            self.trg = trg[:, :-1]\n",
    "            self.trg_y = trg[:, 1:]\n",
    "            self.trg_mask = \\\n",
    "                self.make_std_mask(self.trg, pad)\n",
    "            self.ntokens = (self.trg_y != pad).data.sum()\n",
    "    \n",
    "    @staticmethod\n",
    "    def make_std_mask(tgt, pad):\n",
    "        \"Create a mask to hide padding and future words.\"\n",
    "        tgt_mask = (tgt != pad).unsqueeze(-2)\n",
    "        tgt_mask = tgt_mask & Variable(\n",
    "            subsequent_mask(tgt.size(-1)).type_as(tgt_mask.data))\n",
    "        return tgt_mask"
   ]
  },
  {
   "cell_type": "markdown",
   "id": "cd9c7ff2",
   "metadata": {},
   "source": [
    "# TRAINING LOOP"
   ]
  },
  {
   "cell_type": "code",
   "execution_count": 124,
   "id": "394074b6",
   "metadata": {},
   "outputs": [],
   "source": [
    "def run_epoch(data_iter, model, loss_compute):\n",
    "    start = time.time()\n",
    "    total_tokens = 0\n",
    "    total_loss = 0\n",
    "    tokens = 0\n",
    "    for i, batch in enumerate(data_iter):\n",
    "        out = model.forward(batch.src, batch.trg, \n",
    "                            batch.src_mask, batch.trg_mask)\n",
    "        loss = loss_compute(out, batch.trg_y, batch.ntokens)\n",
    "        total_loss += loss\n",
    "        total_tokens += batch.ntokens\n",
    "        tokens += batch.ntokens\n",
    "        if i % 50 == 1:\n",
    "            elapsed = time.time() - start\n",
    "            print(\"Epoch Step: %d Loss: %f Tokens per Sec: %f\" %\n",
    "                    (i, loss / batch.ntokens, tokens / elapsed))\n",
    "            start = time.time()\n",
    "            tokens = 0\n",
    "    return total_loss / total_tokens"
   ]
  },
  {
   "cell_type": "code",
   "execution_count": 100,
   "id": "c74058aa",
   "metadata": {},
   "outputs": [],
   "source": [
    "global max_src_in_batch, max_tgt_in_batch\n",
    "def batch_size_fn(new, count, sofar):\n",
    "    \"Keep augmenting batch and calculate total number of tokens + padding.\"\n",
    "    global max_src_in_batch, max_tgt_in_batch\n",
    "    if count == 1:\n",
    "        max_src_in_batch = 0\n",
    "        max_tgt_in_batch = 0\n",
    "    max_src_in_batch = max(max_src_in_batch,  len(new.src))\n",
    "    max_tgt_in_batch = max(max_tgt_in_batch,  len(new.trg) + 2)\n",
    "    src_elements = count * max_src_in_batch\n",
    "    tgt_elements = count * max_tgt_in_batch\n",
    "    return max(src_elements, tgt_elements)"
   ]
  },
  {
   "cell_type": "markdown",
   "id": "ecc4b926",
   "metadata": {},
   "source": [
    "# OPTIMIZER"
   ]
  },
  {
   "cell_type": "code",
   "execution_count": 102,
   "id": "fdcf24ba",
   "metadata": {},
   "outputs": [],
   "source": [
    "class NoamOpt:\n",
    "    \"Optim wrapper that implements rate.\"\n",
    "    def __init__(self, model_size, factor, warmup, optimizer):\n",
    "        self.optimizer = optimizer\n",
    "        self._step = 0\n",
    "        self.warmup = warmup\n",
    "        self.factor = factor\n",
    "        self.model_size = model_size\n",
    "        self._rate = 0\n",
    "        \n",
    "    def step(self):\n",
    "        \"Update parameters and rate\"\n",
    "        self._step += 1\n",
    "        rate = self.rate()\n",
    "        for p in self.optimizer.param_groups:\n",
    "            p['lr'] = rate\n",
    "        self._rate = rate\n",
    "        self.optimizer.step()\n",
    "        \n",
    "    def rate(self, step = None):\n",
    "        \"Implement `lrate` above\"\n",
    "        if step is None:\n",
    "            step = self._step\n",
    "        return self.factor * \\\n",
    "            (self.model_size ** (-0.5) *\n",
    "            min(step ** (-0.5), step * self.warmup ** (-1.5)))\n",
    "        \n",
    "def get_std_opt(model):\n",
    "    return NoamOpt(model.src_embed[0].d_model, 2, 4000,\n",
    "            torch.optim.Adam(model.parameters(), lr=0, betas=(0.9, 0.98), eps=1e-9))\n",
    "\n"
   ]
  },
  {
   "cell_type": "code",
   "execution_count": 103,
   "id": "1fecca30",
   "metadata": {},
   "outputs": [
    {
     "data": {
      "image/png": "[encoded data removed]",
      "text/plain": [
       "<Figure size 432x288 with 1 Axes>"
      ]
     },
     "metadata": {
      "needs_background": "light"
     },
     "output_type": "display_data"
    }
   ],
   "source": [
    "# Three settings of the lrate hyperparameters.\n",
    "opts = [NoamOpt(512, 1, 4000, None), \n",
    "        NoamOpt(512, 1, 8000, None),\n",
    "        NoamOpt(256, 1, 4000, None)]\n",
    "plt.plot(np.arange(1, 20000), [[opt.rate(i) for opt in opts] for i in range(1, 20000)])\n",
    "plt.legend([\"512:4000\", \"512:8000\", \"256:4000\"])\n",
    "None"
   ]
  },
  {
   "cell_type": "markdown",
   "id": "cc2f6347",
   "metadata": {},
   "source": [
    "# REGULARIZATION"
   ]
  },
  {
   "cell_type": "markdown",
   "id": "d6b84cb0",
   "metadata": {},
   "source": [
    "We implement label smoothing using the KL div loss. Instead of using a one-hot target distribution, we create a distribution that has confidence of the correct word and the rest of the smoothing mass distributed throughout the vocabulary."
   ]
  },
  {
   "cell_type": "code",
   "execution_count": 106,
   "id": "c01f6cb2",
   "metadata": {},
   "outputs": [],
   "source": [
    "class LabelSmoothing(nn.Module):\n",
    "    \"Implement label smoothing.\"\n",
    "    def __init__(self, size, padding_idx, smoothing=0.0):\n",
    "        super(LabelSmoothing, self).__init__()\n",
    "        self.criterion = nn.KLDivLoss(size_average=False)\n",
    "        self.padding_idx = padding_idx\n",
    "        self.confidence = 1.0 - smoothing\n",
    "        self.smoothing = smoothing\n",
    "        self.size = size\n",
    "        self.true_dist = None\n",
    "        \n",
    "    def forward(self, x, target):\n",
    "        assert x.size(1) == self.size\n",
    "        true_dist = x.data.clone()\n",
    "        true_dist.fill_(self.smoothing / (self.size - 2))\n",
    "        true_dist.scatter_(1, target.data.unsqueeze(1), self.confidence)\n",
    "        true_dist[:, self.padding_idx] = 0\n",
    "        mask = torch.nonzero(target.data == self.padding_idx)\n",
    "        if mask.dim() > 0:\n",
    "            true_dist.index_fill_(0, mask.squeeze(), 0.0)\n",
    "        self.true_dist = true_dist\n",
    "        return self.criterion(x, Variable(true_dist, requires_grad=False))"
   ]
  },
  {
   "cell_type": "markdown",
   "id": "fe9d06f9",
   "metadata": {},
   "source": [
    " Here we can see an example of how the mass is distributed to the words based on confidence."
   ]
  },
  {
   "cell_type": "code",
   "execution_count": 108,
   "id": "9bfde1c6",
   "metadata": {
    "scrolled": false
   },
   "outputs": [
    {
     "data": {
      "image/png": "[encoded data removed]",
      "text/plain": [
       "<Figure size 432x288 with 1 Axes>"
      ]
     },
     "metadata": {
      "needs_background": "light"
     },
     "output_type": "display_data"
    }
   ],
   "source": [
    "crit = LabelSmoothing(5, 0, 0.4)\n",
    "predict = torch.FloatTensor([[0, 0.2, 0.7, 0.1, 0],\n",
    "                             [0, 0.2, 0.7, 0.1, 0], \n",
    "                             [0, 0.2, 0.7, 0.1, 0]])\n",
    "v = crit(Variable(predict.log()), \n",
    "         Variable(torch.LongTensor([2, 1, 0])))\n",
    "plt.imshow(crit.true_dist)\n",
    "None"
   ]
  },
  {
   "cell_type": "code",
   "execution_count": 113,
   "id": "d28ffc7c",
   "metadata": {},
   "outputs": [],
   "source": [
    "def data_gen(V, batch, nbatches):\n",
    "    \"Generate random data for a src-tgt copy task.\"\n",
    "    for i in range(nbatches):\n",
    "        data = torch.from_numpy(np.random.randint(1, V, size=(batch, 10)))\n",
    "        data[:, 0] = 1\n",
    "        src = Variable(data, requires_grad=False)\n",
    "        tgt = Variable(data, requires_grad=False)\n",
    "        yield Batch(src, tgt, 0)"
   ]
  },
  {
   "cell_type": "code",
   "execution_count": 116,
   "id": "6949e038",
   "metadata": {},
   "outputs": [],
   "source": [
    "class SimpleLossCompute:\n",
    "    \"A simple loss compute and train function.\"\n",
    "    def __init__(self, generator, criterion, opt=None):\n",
    "        self.generator = generator\n",
    "        self.criterion = criterion\n",
    "        self.opt = opt\n",
    "        \n",
    "    def __call__(self, x, y, norm):\n",
    "        x = self.generator(x)\n",
    "        loss = self.criterion(x.contiguous().view(-1, x.size(-1)), \n",
    "                              y.contiguous().view(-1)) / norm\n",
    "        loss.backward()\n",
    "        if self.opt is not None:\n",
    "            self.opt.step()\n",
    "            self.opt.optimizer.zero_grad()\n",
    "        return loss.data.item() * norm"
   ]
  },
  {
   "cell_type": "code",
   "execution_count": 117,
   "id": "779786c3",
   "metadata": {},
   "outputs": [
    {
     "name": "stderr",
     "output_type": "stream",
     "text": [
      "/tmp/ipykernel_18445/2894909393.py:17: UserWarning: nn.init.xavier_uniform is now deprecated in favor of nn.init.xavier_uniform_.\n",
      "  nn.init.xavier_uniform(p)\n"
     ]
    },
    {
     "name": "stdout",
     "output_type": "stream",
     "text": [
      "Epoch Step: 1 Loss: 3.345043 Tokens per Sec: 1143.557495\n",
      "Epoch Step: 1 Loss: 2.073213 Tokens per Sec: 1875.524048\n",
      "tensor(1.9777)\n",
      "Epoch Step: 1 Loss: 2.107600 Tokens per Sec: 1361.209961\n",
      "Epoch Step: 1 Loss: 1.861382 Tokens per Sec: 1584.136719\n",
      "tensor(1.8658)\n",
      "Epoch Step: 1 Loss: 1.863299 Tokens per Sec: 965.319824\n",
      "Epoch Step: 1 Loss: 1.568191 Tokens per Sec: 2009.837524\n",
      "tensor(1.5873)\n",
      "Epoch Step: 1 Loss: 1.739413 Tokens per Sec: 1126.593140\n",
      "Epoch Step: 1 Loss: 1.345070 Tokens per Sec: 1519.589722\n",
      "tensor(1.3395)\n",
      "Epoch Step: 1 Loss: 1.343953 Tokens per Sec: 1066.461426\n",
      "Epoch Step: 1 Loss: 0.871328 Tokens per Sec: 1651.389893\n",
      "tensor(0.9274)\n",
      "Epoch Step: 1 Loss: 1.216411 Tokens per Sec: 1228.501465\n",
      "Epoch Step: 1 Loss: 0.660773 Tokens per Sec: 2023.590698\n",
      "tensor(0.6599)\n",
      "Epoch Step: 1 Loss: 0.730797 Tokens per Sec: 1378.561523\n",
      "Epoch Step: 1 Loss: 0.495685 Tokens per Sec: 2211.919922\n",
      "tensor(0.5819)\n",
      "Epoch Step: 1 Loss: 1.014289 Tokens per Sec: 1227.059082\n",
      "Epoch Step: 1 Loss: 0.496370 Tokens per Sec: 1909.111572\n",
      "tensor(0.5185)\n",
      "Epoch Step: 1 Loss: 0.645031 Tokens per Sec: 1366.799927\n",
      "Epoch Step: 1 Loss: 0.391609 Tokens per Sec: 2109.907227\n",
      "tensor(0.3463)\n",
      "Epoch Step: 1 Loss: 0.586754 Tokens per Sec: 1259.208374\n",
      "Epoch Step: 1 Loss: 0.263965 Tokens per Sec: 899.722351\n",
      "tensor(0.2649)\n"
     ]
    }
   ],
   "source": [
    "V = 11\n",
    "criterion = LabelSmoothing(size=V, padding_idx=0, smoothing=0.0)\n",
    "model = make_model(V, V, N=2)\n",
    "model_opt = NoamOpt(model.src_embed[0].d_model, 1, 400,\n",
    "        torch.optim.Adam(model.parameters(), lr=0, betas=(0.9, 0.98), eps=1e-9))\n",
    "\n",
    "for epoch in range(10):\n",
    "    model.train()\n",
    "    run_epoch(data_gen(V, 30, 20), model, \n",
    "              SimpleLossCompute(model.generator, criterion, model_opt))\n",
    "    model.eval()\n",
    "    print(run_epoch(data_gen(V, 30, 5), model, \n",
    "                    SimpleLossCompute(model.generator, criterion, None)))"
   ]
  },
  {
   "cell_type": "code",
   "execution_count": 123,
   "id": "7dbf38e1",
   "metadata": {},
   "outputs": [
    {
     "name": "stdout",
     "output_type": "stream",
     "text": [
      "tensor([[ 1,  2,  3,  4,  5,  6,  7,  9,  9, 10]])\n"
     ]
    }
   ],
   "source": [
    "def greedy_decode(model, src, src_mask, max_len, start_symbol):\n",
    "    memory = model.encode(src, src_mask)\n",
    "    ys = torch.ones(1, 1).fill_(start_symbol).type_as(src.data)\n",
    "    for i in range(max_len-1):\n",
    "        out = model.decode(memory, src_mask, \n",
    "                           Variable(ys), \n",
    "                           Variable(subsequent_mask(ys.size(1))\n",
    "                                    .type_as(src.data)))\n",
    "        prob = model.generator(out[:, -1])\n",
    "        _, next_word = torch.max(prob, dim = 1)\n",
    "        next_word = next_word.data[0]\n",
    "        ys = torch.cat([ys, \n",
    "                        torch.ones(1, 1).type_as(src.data).fill_(next_word)], dim=1)\n",
    "    return ys\n",
    "\n",
    "model.eval()\n",
    "src = Variable(torch.LongTensor([[1,2,3,4,5,6,7,8,9,10]]))\n",
    "src_mask = Variable(torch.ones(1, 1, 10) )\n",
    "print(greedy_decode(model, src, src_mask, max_len=10, start_symbol=1))"
   ]
  }
 ],
 "metadata": {
  "kernelspec": {
   "display_name": "Python 3 (ipykernel)",
   "language": "python",
   "name": "python3"
  },
  "language_info": {
   "codemirror_mode": {
    "name": "ipython",
    "version": 3
   },
   "file_extension": ".py",
   "mimetype": "text/x-python",
   "name": "python",
   "nbconvert_exporter": "python",
   "pygments_lexer": "ipython3",
   "version": "3.9.7"
  }
 },
 "nbformat": 4,
 "nbformat_minor": 5
}
