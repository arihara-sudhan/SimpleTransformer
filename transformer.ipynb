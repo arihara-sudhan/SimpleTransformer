{
 "cells": [
  {
   "cell_type": "markdown",
   "id": "343e2ac4",
   "metadata": {},
   "source": [
    "# TRANSFORMER"
   ]
  },
  {
   "cell_type": "code",
   "execution_count": 2,
   "id": "dbc700cf",
   "metadata": {},
   "outputs": [],
   "source": [
    "import torch.nn as nn\n",
    "import torch\n",
    "\n",
    "class Transformer(nn.Module):\n",
    "    def __init__(self, input_dim, output_dim, hidden_dim, num_layers, num_heads):\n",
    "        super().__init__()\n",
    "        \n",
    "        self.encoder_embedding = nn.Embedding(input_dim, hidden_dim)\n",
    "        self.decoder_embedding = nn.Embedding(output_dim, hidden_dim)\n",
    "        \n",
    "        self.encoder_pos_embedding = nn.Embedding(1000, hidden_dim)\n",
    "        self.decoder_pos_embedding = nn.Embedding(1000, hidden_dim)\n",
    "        \n",
    "        self.encoder_layers = nn.ModuleList([\n",
    "            nn.TransformerEncoderLayer(hidden_dim, num_heads) for _ in range(num_layers)\n",
    "        ])\n",
    "        \n",
    "        self.decoder_layers = nn.ModuleList([\n",
    "            nn.TransformerDecoderLayer(hidden_dim, num_heads) for _ in range(num_layers)\n",
    "        ])\n",
    "        \n",
    "        self.fc = nn.Linear(hidden_dim, output_dim)\n",
    "        \n",
    "    def forward(self, encoder_input, decoder_input):\n",
    "        encoder_embedded = self.encoder_embedding(encoder_input)\n",
    "        decoder_embedded = self.decoder_embedding(decoder_input)\n",
    "        \n",
    "        encoder_positions = torch.arange(encoder_input.size(1), device=encoder_input.device).unsqueeze(0)\n",
    "        decoder_positions = torch.arange(decoder_input.size(1), device=decoder_input.device).unsqueeze(0)\n",
    "        \n",
    "        encoder_embedded = encoder_embedded + self.encoder_pos_embedding(encoder_positions)\n",
    "        decoder_embedded = decoder_embedded + self.decoder_pos_embedding(decoder_positions)\n",
    "        \n",
    "        for layer in self.encoder_layers:\n",
    "            encoder_embedded = layer(encoder_embedded)\n",
    "            \n",
    "        encoder_output = encoder_embedded\n",
    "        \n",
    "        for layer in self.decoder_layers:\n",
    "            decoder_embedded = layer(decoder_embedded, encoder_output)\n",
    "        output = self.fc(decoder_embedded)\n",
    "        return output"
   ]
  },
  {
   "cell_type": "code",
   "execution_count": null,
   "id": "b80a542f",
   "metadata": {},
   "outputs": [],
   "source": [
    "#TRAIN"
   ]
  }
 ],
 "metadata": {
  "kernelspec": {
   "display_name": "Python 3 (ipykernel)",
   "language": "python",
   "name": "python3"
  },
  "language_info": {
   "codemirror_mode": {
    "name": "ipython",
    "version": 3
   },
   "file_extension": ".py",
   "mimetype": "text/x-python",
   "name": "python",
   "nbconvert_exporter": "python",
   "pygments_lexer": "ipython3",
   "version": "3.9.7"
  }
 },
 "nbformat": 4,
 "nbformat_minor": 5
}
